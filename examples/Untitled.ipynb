{
 "cells": [
  {
   "cell_type": "code",
   "execution_count": 1,
   "id": "39c7028e-4d16-400c-babc-767d3bb0f042",
   "metadata": {},
   "outputs": [],
   "source": [
    "from matplotlib import pyplot as plt\n",
    "import numpy as np"
   ]
  },
  {
   "cell_type": "markdown",
   "id": "1bcebfdd-52e3-4f28-839c-168c37fe093b",
   "metadata": {},
   "source": [
    "This example is going to be an application of the bayesian statistics to a rather simple example:  Measuring the gravity acceleration constant g through free fall \n",
    "\n",
    "The problem is set as follows: Consider a simple free fall experiment where an object of mass m=1kg is left to fall from a heigh of $h_0 = 1\\text{m}$. For simplicity both the mass and the heigh of the object are known with absolute certainty. We measure the time it takes for the object to fall and using the known formula:\n",
    "$$\n",
    "h_0 = \\frac{1}{2}gt^2\n",
    "$$ \n",
    "We can calculate the accelration g due to earths gravitational force"
   ]
  },
  {
   "cell_type": "code",
   "execution_count": null,
   "id": "444c8877-93f9-4909-bde7-4d0dcfc09fc9",
   "metadata": {},
   "outputs": [],
   "source": []
  }
 ],
 "metadata": {
  "kernelspec": {
   "display_name": "my_env",
   "language": "python",
   "name": "my_env"
  },
  "language_info": {
   "codemirror_mode": {
    "name": "ipython",
    "version": 3
   },
   "file_extension": ".py",
   "mimetype": "text/x-python",
   "name": "python",
   "nbconvert_exporter": "python",
   "pygments_lexer": "ipython3",
   "version": "3.11.6"
  }
 },
 "nbformat": 4,
 "nbformat_minor": 5
}
